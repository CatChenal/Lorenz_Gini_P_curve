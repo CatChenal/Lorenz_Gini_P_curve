{
 "cells": [
  {
   "cell_type": "markdown",
   "metadata": {},
   "source": [
    "# LGP: the Lorenz-Gini-P curve\n",
    "\n",
    "\n",
    "## A Lorenz Curve is a scatter plot of two series of cumulative proportions:\n",
    "The x-axis records the cumulative proportion of some population (people, rabbits, defective widgets etc.) \n",
    "ranked by the cumulative proportion of an associated y-measure (income, births, cost of repairs, etc.).  \n",
    "It is therefore, a square plot with (0,1) ranges.\n",
    "\n",
    "To reproduce the \"augmented\" Lorenz curve (Figure 2) in this paper by Kunegis and Preusse, \"Fairness on the Web: Alternatives to the Power Law\" in *WebSci* 2012, June 22–24, 2012, Evanston, Illinois, USA::  \n",
    "\n",
    "![Figure2](../images/LorenzGiniP_Figure2.png)\n",
    "> Figure 2. Statistics associated with the Pareto principle. [...]The Lorenz curve (continuous line) gives rise to two statistics: The Gini coefficient G is twice the gray area and the balanced inequality ratio P is the point at which the antidiagonal crosses the Lorenz curve.\n",
    "\n",
    "\n",
    "The 'the balanced inequality ratio P' that Kunegis and Preusse identify is typically used in a statement echoing the Pareto principle, e.g.: P% of all <users/objects> account for X% of all <some measures/resources...>.\n",
    "\n",
    "# The Gini coefficient:  \n",
    "\n",
    "## The Gini coefficient can be obtained graphically:  \n",
    "The area below the diagonal is equal to half the total area of the square;  \n",
    "It is also equal to the area between the diagonal and the Lorenz curve = A, \n",
    "plus what's left = B.  \n",
    "Therefore, the Gini coefficient, G is:  G = A/(A+B)   \n",
    "Since A+B = 0.5, **G = 2A**\n",
    "\n",
    "# Examplar output of the function `LorenzGiniP.plot_lorenz_GP()`:  \n",
    "\n",
    "## Gini = 0%: fair distribution of Y among X:  \n",
    "\n",
    "![Gini0](../images/Lorenz_Gini0.png)  \n",
    "\n",
    "## Gini = 100% when ~ 1 has ~ all: \n",
    "![Gini100](../images/Lorenz_Gini100.png)  \n",
    "\n",
    "## Gini = intermedate for other cases:  \n",
    "![Gini](../images/Lorenz_Gini.png)  \n",
    "\n",
    "## This last plot was created from two cumulative series in a Pandas DataFrame:\n",
    "![Gini pandas](../images/Lorenz_Gini_pandas.png)\n",
    "\n",
    "\n",
    "### Hope this helps!\n",
    "\n",
    "#### TODO: Refine plotting function to enable args as style dicts for plot text and figure save options."
   ]
  },
  {
   "cell_type": "code",
   "execution_count": null,
   "metadata": {},
   "outputs": [],
   "source": []
  }
 ],
 "metadata": {
  "kernelspec": {
   "display_name": "Python 3",
   "language": "python",
   "name": "python3"
  },
  "language_info": {
   "codemirror_mode": {
    "name": "ipython",
    "version": 3
   },
   "file_extension": ".py",
   "mimetype": "text/x-python",
   "name": "python",
   "nbconvert_exporter": "python",
   "pygments_lexer": "ipython3",
   "version": "3.6.6"
  }
 },
 "nbformat": 4,
 "nbformat_minor": 2
}
